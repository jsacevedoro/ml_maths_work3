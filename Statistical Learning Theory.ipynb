{
 "cells": [
  {
   "cell_type": "markdown",
   "id": "62050db6",
   "metadata": {},
   "source": [
    "# Statistical Learning Theory \n",
    "\n",
    "Exercises taken from the book *Learning from Data* by Yaser Abu-Mostafa, Malik Magdon-Ismail and Hsuan-Tien Lin."
   ]
  },
  {
   "cell_type": "markdown",
   "id": "ee3b854c",
   "metadata": {},
   "source": [
    "### Exercise 1.2\n",
    "\n",
    "\n",
    "Suppose that we use a perceptron to detect spam messages. Let's say that each email message is represented by the frequency of occurrence of keywords, and the output is $+1$ if the message is considered spam.\n",
    "\n",
    "(a) Can you think of some keywords that will end up with a large positive weight in the perceptron?<br>**Solution.** Some words that will end up with large positive weight may be: discount, price, save money, buy, best price, gift, free, click here. \n",
    "\n",
    "(b) How about keywords that will get a negative weight?\n",
    "<br>**Solution.** Words with negative weight might be: important, job, academic, meeting, opportunity, document.\n",
    "\n",
    "(c) What parameter in the perceptron directly affects how many borderline messages end up being classified as spam?\n",
    "<br>**Solution.** The threshold or bias term $b$ is the parameter that affects the most the amount of borderline messages classified as spam, cause it represents the decision boundary."
   ]
  },
  {
   "cell_type": "markdown",
   "id": "5a46b288",
   "metadata": {},
   "source": [
    "### Excercise 1.3"
   ]
  }
 ],
 "metadata": {
  "kernelspec": {
   "display_name": "Julia 1.7.2",
   "language": "julia",
   "name": "julia-1.7"
  },
  "language_info": {
   "file_extension": ".jl",
   "mimetype": "application/julia",
   "name": "julia",
   "version": "1.7.2"
  }
 },
 "nbformat": 4,
 "nbformat_minor": 5
}
